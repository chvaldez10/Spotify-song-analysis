{
 "cells": [
  {
   "attachments": {},
   "cell_type": "markdown",
   "metadata": {},
   "source": [
    "# Christian's Notebook\n",
    "This is a place where I will create code fragments for the project."
   ]
  },
  {
   "cell_type": "code",
   "execution_count": null,
   "metadata": {},
   "outputs": [],
   "source": [
    "#imports\n",
    "import numpy as np\n",
    "import pandas as pd\n",
    "import matplotlib.pyplot as plt\n",
    "\n",
    "import Levenshtein"
   ]
  },
  {
   "cell_type": "code",
   "execution_count": null,
   "metadata": {},
   "outputs": [],
   "source": [
    "chart_art = \"\"\"\n",
    "____|\\_______________|\\\\_______________|_______'__|__`___|_____|___|__________\n",
    "____|/___3_|________@'_\\|__|_____|_____|___|___|__|__|___|_|__@'___|___|___|__\n",
    "___/|____-_|____________|__|_____|____@'___|__@'_@'_@'___|_|______@'___|___|__\n",
    "__|_/_\\__4_|___|_______@'__|____O'_________|____________O'_|__________@'___|__\n",
    "___\\|/_____|___|___________|_______________|_______________|_______________|__\n",
    "\"\"\"\n"
   ]
  },
  {
   "attachments": {},
   "cell_type": "markdown",
   "metadata": {},
   "source": [
    "Notes:\n",
    "Manually took out some columns"
   ]
  },
  {
   "cell_type": "code",
   "execution_count": null,
   "metadata": {},
   "outputs": [],
   "source": [
    "# all_data = pd.read_excel(r\"./Data/Original-Dataset.xlsx\", nrows=21527)"
   ]
  },
  {
   "cell_type": "code",
   "execution_count": null,
   "metadata": {},
   "outputs": [],
   "source": [
    "# num_of_rows = len(all_data.index)\n",
    "\n",
    "# slice_index_1 = num_of_rows//3\n",
    "# slice_index_2 = slice_index_1*2\n",
    "# slice_index_3 = slice_index_1*3\n",
    "\n",
    "# print(num_of_rows)\n",
    "# print(slice_index_1, slice_index_2, slice_index_3)\n",
    "\n",
    "# slice_1 = all_data[0: slice_index_1]\n",
    "# slice_2 = all_data[slice_index_1: slice_index_2]\n",
    "# slice_3 = all_data[slice_index_2: num_of_rows+1]\n",
    "\n",
    "# slice_1.to_excel(r\"./Data/dataset1.xlsx\", index=False, header=True)\n",
    "# slice_2.to_excel(r\"./Data/dataset2.xlsx\", index=False, header=True)\n",
    "# slice_3.to_excel(r\"./Data/dataset3-1.xlsx\", index=False, header=True)\n",
    "# slice_3.to_excel(r\"./Data/dataset3-2.xlsx\", index=False, header=True)"
   ]
  },
  {
   "cell_type": "code",
   "execution_count": null,
   "metadata": {},
   "outputs": [],
   "source": [
    "def damerau_levenshtein_distance(str1, str2):\n",
    "    return Levenshtein.distance(str1, str2)\n",
    "\n",
    "def jaro_winkler_similarity(str1, str2):\n",
    "    return Levenshtein.jaro_winkler(str1, str2)\n",
    "\n",
    "# Example usage\n",
    "string1 = \"R  a p\"\n",
    "string2 = \"rap\"\n",
    "\n",
    "distance = damerau_levenshtein_distance(string1, string2)\n",
    "similarity = jaro_winkler_similarity(string1, string2)\n",
    "\n",
    "print(\"Damerau-Levenshtein distance:\", distance)\n",
    "print(\"Jaro-Winkler similarity:\", similarity)\n"
   ]
  },
  {
   "cell_type": "code",
   "execution_count": null,
   "metadata": {},
   "outputs": [],
   "source": [
    "datasets = []\n",
    "list_of_indexes = [\"song_name\", \"key\", \"mode\", \"time_signature\"]\n",
    "\n",
    "try:\n",
    "    #import all three xls files, setting it to 1 for now due to run time\n",
    "    for i_index in range(1, 4):\n",
    "        tmp_data = []\n",
    "        for j_index in range(1,3):\n",
    "            fragment_data = pd.read_excel(f\"./Data/dataset{i_index}-{j_index}.xlsx\")\n",
    "            tmp_data.append(fragment_data)\n",
    "\n",
    "        dataset = pd.merge(tmp_data[0], tmp_data[1], left_index=True, right_index=True)\n",
    "        \n",
    "        # clean DataFrame\n",
    "        dataset.drop_duplicates()\n",
    "        dataset[\"song_name\"] = dataset[\"song_name\"].str.replace(r'[^\\x00-\\x7F]+', '')\n",
    "        dataset = dataset[dataset.song_name.str.match(\"[a-zA-Z0-9]+\") & dataset.song_name.notna()]\n",
    "        dataset = dataset[~dataset.song_name.str.match(\"[0-9]+\\s[0-9]+\")]\n",
    "        dataset = dataset[~dataset.song_name.str.match(\"[0-9]+:[0-9]+\")]\n",
    "        datasets.append(dataset)\n",
    "except FileNotFoundError as e:\n",
    "    print(f\"{type(e)}\\nExiting with error.\")\n",
    "    exit()\n",
    "\n",
    "df = [datasets[i_index].set_index(list_of_indexes) for i_index in range(len(datasets))]\n",
    "group_25_song_database = pd.concat([df[0], df[1], df[2]])"
   ]
  },
  {
   "cell_type": "code",
   "execution_count": null,
   "metadata": {},
   "outputs": [],
   "source": [
    "songs_sorted = sorted(group_25_song_database.index.get_level_values(0).to_list())"
   ]
  },
  {
   "cell_type": "code",
   "execution_count": null,
   "metadata": {},
   "outputs": [],
   "source": [
    "with open(\"songs.txt\", \"w\") as songs_data:\n",
    "    for song in songs_sorted:\n",
    "        songs_data.write(f\"{song}\\n\")"
   ]
  },
  {
   "cell_type": "code",
   "execution_count": null,
   "metadata": {},
   "outputs": [],
   "source": [
    "# data = ['00101111 01001101 01001001 01000001', '1 thing', '01:00:00', 'shake it off', 'f.t.w', 'Ten (å¤©)', 'å¤©', '1:1', '', ' ' , 'a3', 'shake if off', 'Canal St. (feat. Bones)', 'Ð“Ñ€ÑƒÑÑ‚Ð½Ð°Ñ', np.nan]\n",
    "# names = pd.DataFrame(data, columns=[\"song_name\"])\n",
    "# names[\"song_name\"] = names[\"song_name\"].str.replace(r'[^\\x00-\\x7F]+', '')\n",
    "# names = names[names.song_name.str.match(\"[a-zA-Z0-9]+\") & names.song_name.notna()]\n",
    "# print(names)\n",
    "# names = names[~names.song_name.str.match(\"[0-9]+\\s[0-9]+\")]\n",
    "# names = names[~names.song_name.str.match(\"[0-9]+:[0-9]+\")]\n",
    "# names"
   ]
  },
  {
   "cell_type": "code",
   "execution_count": null,
   "metadata": {},
   "outputs": [],
   "source": [
    "list_of_songs = list(group_25_song_database.index.levels[0])\n",
    "list_of_genres = list(group_25_song_database.genre.unique())\n",
    "\n",
    "group_25_song_database['total_beats'] = (group_25_song_database['tempo'] * group_25_song_database['duration_ms']*0.001).astype(int)\n",
    "group_25_song_database['boringness'] = (group_25_song_database['loudness'] + group_25_song_database['tempo'] + (group_25_song_database['energy']*100) + (group_25_song_database['danceability']*100))"
   ]
  },
  {
   "cell_type": "code",
   "execution_count": null,
   "metadata": {},
   "outputs": [],
   "source": [
    "group_25_song_database.head()"
   ]
  },
  {
   "cell_type": "code",
   "execution_count": null,
   "metadata": {},
   "outputs": [],
   "source": [
    "sub_genre_df = group_25_song_database.loc[group_25_song_database[\"genre\"] == \"Pop\"]\n",
    "df = sub_genre_df.loc[:, [\"boringness\", \"total_beats\"]]\n",
    "beats = df[\"total_beats\"].values.tolist()\n",
    "boringness = df[\"boringness\"].values.tolist()\n",
    "boringness"
   ]
  },
  {
   "cell_type": "code",
   "execution_count": 48,
   "metadata": {},
   "outputs": [],
   "source": [
    "data = {'First Name': ['Tom', 'Tom', 'krish', 'jack'],\n",
    "        'Last Name': ['Smith', 'Smith', 'doug', 'jack'],\n",
    "        'Gender': ['Male', 'Female', 'Male', 'Female'],\n",
    "        'Age': [20, 20, 19, 18]}\n",
    "  \n",
    "# Create DataFrame\n",
    "df = pd.DataFrame(data)\n",
    "df2 = df.set_index(['First Name', 'Last Name'])"
   ]
  },
  {
   "cell_type": "code",
   "execution_count": 49,
   "metadata": {},
   "outputs": [
    {
     "data": {
      "text/html": [
       "<div>\n",
       "<style scoped>\n",
       "    .dataframe tbody tr th:only-of-type {\n",
       "        vertical-align: middle;\n",
       "    }\n",
       "\n",
       "    .dataframe tbody tr th {\n",
       "        vertical-align: top;\n",
       "    }\n",
       "\n",
       "    .dataframe thead th {\n",
       "        text-align: right;\n",
       "    }\n",
       "</style>\n",
       "<table border=\"1\" class=\"dataframe\">\n",
       "  <thead>\n",
       "    <tr style=\"text-align: right;\">\n",
       "      <th></th>\n",
       "      <th>First Name</th>\n",
       "      <th>Last Name</th>\n",
       "      <th>Gender</th>\n",
       "      <th>Age</th>\n",
       "    </tr>\n",
       "  </thead>\n",
       "  <tbody>\n",
       "    <tr>\n",
       "      <th>0</th>\n",
       "      <td>Tom</td>\n",
       "      <td>Smith</td>\n",
       "      <td>Male</td>\n",
       "      <td>20</td>\n",
       "    </tr>\n",
       "    <tr>\n",
       "      <th>1</th>\n",
       "      <td>Tom</td>\n",
       "      <td>Smith</td>\n",
       "      <td>Female</td>\n",
       "      <td>20</td>\n",
       "    </tr>\n",
       "    <tr>\n",
       "      <th>2</th>\n",
       "      <td>krish</td>\n",
       "      <td>doug</td>\n",
       "      <td>Male</td>\n",
       "      <td>19</td>\n",
       "    </tr>\n",
       "    <tr>\n",
       "      <th>3</th>\n",
       "      <td>jack</td>\n",
       "      <td>jack</td>\n",
       "      <td>Female</td>\n",
       "      <td>18</td>\n",
       "    </tr>\n",
       "  </tbody>\n",
       "</table>\n",
       "</div>"
      ],
      "text/plain": [
       "  First Name Last Name  Gender  Age\n",
       "0        Tom     Smith    Male   20\n",
       "1        Tom     Smith  Female   20\n",
       "2      krish      doug    Male   19\n",
       "3       jack      jack  Female   18"
      ]
     },
     "execution_count": 49,
     "metadata": {},
     "output_type": "execute_result"
    }
   ],
   "source": [
    "df"
   ]
  },
  {
   "cell_type": "code",
   "execution_count": 51,
   "metadata": {},
   "outputs": [
    {
     "data": {
      "text/html": [
       "<div>\n",
       "<style scoped>\n",
       "    .dataframe tbody tr th:only-of-type {\n",
       "        vertical-align: middle;\n",
       "    }\n",
       "\n",
       "    .dataframe tbody tr th {\n",
       "        vertical-align: top;\n",
       "    }\n",
       "\n",
       "    .dataframe thead th {\n",
       "        text-align: right;\n",
       "    }\n",
       "</style>\n",
       "<table border=\"1\" class=\"dataframe\">\n",
       "  <thead>\n",
       "    <tr style=\"text-align: right;\">\n",
       "      <th></th>\n",
       "      <th></th>\n",
       "      <th>Gender</th>\n",
       "      <th>Age</th>\n",
       "    </tr>\n",
       "    <tr>\n",
       "      <th>First Name</th>\n",
       "      <th>Last Name</th>\n",
       "      <th></th>\n",
       "      <th></th>\n",
       "    </tr>\n",
       "  </thead>\n",
       "  <tbody>\n",
       "    <tr>\n",
       "      <th>Tom</th>\n",
       "      <th>Smith</th>\n",
       "      <td>Male</td>\n",
       "      <td>20</td>\n",
       "    </tr>\n",
       "  </tbody>\n",
       "</table>\n",
       "</div>"
      ],
      "text/plain": [
       "                     Gender  Age\n",
       "First Name Last Name            \n",
       "Tom        Smith       Male   20"
      ]
     },
     "execution_count": 51,
     "metadata": {},
     "output_type": "execute_result"
    }
   ],
   "source": [
    "df2.loc[df2.Age == 20][:1]"
   ]
  },
  {
   "cell_type": "code",
   "execution_count": 37,
   "metadata": {},
   "outputs": [
    {
     "ename": "KeyError",
     "evalue": "0",
     "output_type": "error",
     "traceback": [
      "\u001b[1;31m---------------------------------------------------------------------------\u001b[0m",
      "\u001b[1;31mKeyError\u001b[0m                                  Traceback (most recent call last)",
      "File \u001b[1;32mc:\\Users\\chris\\AppData\\Local\\Programs\\Python\\Python310\\lib\\site-packages\\pandas\\core\\indexes\\base.py:3802\u001b[0m, in \u001b[0;36mIndex.get_loc\u001b[1;34m(self, key, method, tolerance)\u001b[0m\n\u001b[0;32m   3801\u001b[0m \u001b[39mtry\u001b[39;00m:\n\u001b[1;32m-> 3802\u001b[0m     \u001b[39mreturn\u001b[39;00m \u001b[39mself\u001b[39;49m\u001b[39m.\u001b[39;49m_engine\u001b[39m.\u001b[39;49mget_loc(casted_key)\n\u001b[0;32m   3803\u001b[0m \u001b[39mexcept\u001b[39;00m \u001b[39mKeyError\u001b[39;00m \u001b[39mas\u001b[39;00m err:\n",
      "File \u001b[1;32mc:\\Users\\chris\\AppData\\Local\\Programs\\Python\\Python310\\lib\\site-packages\\pandas\\_libs\\index.pyx:138\u001b[0m, in \u001b[0;36mpandas._libs.index.IndexEngine.get_loc\u001b[1;34m()\u001b[0m\n",
      "File \u001b[1;32mc:\\Users\\chris\\AppData\\Local\\Programs\\Python\\Python310\\lib\\site-packages\\pandas\\_libs\\index.pyx:165\u001b[0m, in \u001b[0;36mpandas._libs.index.IndexEngine.get_loc\u001b[1;34m()\u001b[0m\n",
      "File \u001b[1;32mpandas\\_libs\\hashtable_class_helper.pxi:5745\u001b[0m, in \u001b[0;36mpandas._libs.hashtable.PyObjectHashTable.get_item\u001b[1;34m()\u001b[0m\n",
      "File \u001b[1;32mpandas\\_libs\\hashtable_class_helper.pxi:5753\u001b[0m, in \u001b[0;36mpandas._libs.hashtable.PyObjectHashTable.get_item\u001b[1;34m()\u001b[0m\n",
      "\u001b[1;31mKeyError\u001b[0m: 0",
      "\nThe above exception was the direct cause of the following exception:\n",
      "\u001b[1;31mKeyError\u001b[0m                                  Traceback (most recent call last)",
      "Cell \u001b[1;32mIn[37], line 2\u001b[0m\n\u001b[0;32m      1\u001b[0m idx \u001b[39m=\u001b[39m pd\u001b[39m.\u001b[39mIndexSlice\n\u001b[1;32m----> 2\u001b[0m df2\u001b[39m.\u001b[39;49mloc[idx[[\u001b[39m\"\u001b[39;49m\u001b[39mTom\u001b[39;49m\u001b[39m\"\u001b[39;49m], :], :][\u001b[39m0\u001b[39;49m]\n",
      "File \u001b[1;32mc:\\Users\\chris\\AppData\\Local\\Programs\\Python\\Python310\\lib\\site-packages\\pandas\\core\\frame.py:3807\u001b[0m, in \u001b[0;36mDataFrame.__getitem__\u001b[1;34m(self, key)\u001b[0m\n\u001b[0;32m   3805\u001b[0m \u001b[39mif\u001b[39;00m \u001b[39mself\u001b[39m\u001b[39m.\u001b[39mcolumns\u001b[39m.\u001b[39mnlevels \u001b[39m>\u001b[39m \u001b[39m1\u001b[39m:\n\u001b[0;32m   3806\u001b[0m     \u001b[39mreturn\u001b[39;00m \u001b[39mself\u001b[39m\u001b[39m.\u001b[39m_getitem_multilevel(key)\n\u001b[1;32m-> 3807\u001b[0m indexer \u001b[39m=\u001b[39m \u001b[39mself\u001b[39;49m\u001b[39m.\u001b[39;49mcolumns\u001b[39m.\u001b[39;49mget_loc(key)\n\u001b[0;32m   3808\u001b[0m \u001b[39mif\u001b[39;00m is_integer(indexer):\n\u001b[0;32m   3809\u001b[0m     indexer \u001b[39m=\u001b[39m [indexer]\n",
      "File \u001b[1;32mc:\\Users\\chris\\AppData\\Local\\Programs\\Python\\Python310\\lib\\site-packages\\pandas\\core\\indexes\\base.py:3804\u001b[0m, in \u001b[0;36mIndex.get_loc\u001b[1;34m(self, key, method, tolerance)\u001b[0m\n\u001b[0;32m   3802\u001b[0m     \u001b[39mreturn\u001b[39;00m \u001b[39mself\u001b[39m\u001b[39m.\u001b[39m_engine\u001b[39m.\u001b[39mget_loc(casted_key)\n\u001b[0;32m   3803\u001b[0m \u001b[39mexcept\u001b[39;00m \u001b[39mKeyError\u001b[39;00m \u001b[39mas\u001b[39;00m err:\n\u001b[1;32m-> 3804\u001b[0m     \u001b[39mraise\u001b[39;00m \u001b[39mKeyError\u001b[39;00m(key) \u001b[39mfrom\u001b[39;00m \u001b[39merr\u001b[39;00m\n\u001b[0;32m   3805\u001b[0m \u001b[39mexcept\u001b[39;00m \u001b[39mTypeError\u001b[39;00m:\n\u001b[0;32m   3806\u001b[0m     \u001b[39m# If we have a listlike key, _check_indexing_error will raise\u001b[39;00m\n\u001b[0;32m   3807\u001b[0m     \u001b[39m#  InvalidIndexError. Otherwise we fall through and re-raise\u001b[39;00m\n\u001b[0;32m   3808\u001b[0m     \u001b[39m#  the TypeError.\u001b[39;00m\n\u001b[0;32m   3809\u001b[0m     \u001b[39mself\u001b[39m\u001b[39m.\u001b[39m_check_indexing_error(key)\n",
      "\u001b[1;31mKeyError\u001b[0m: 0"
     ]
    }
   ],
   "source": [
    "idx = pd.IndexSlice\n",
    "df2.loc[idx[[\"Tom\"], :], :][0]"
   ]
  },
  {
   "cell_type": "code",
   "execution_count": null,
   "metadata": {},
   "outputs": [],
   "source": [
    "idx = pd.IndexSlice\n",
    "df3 = df2.loc[idx[:,\"Smith\"], :]\n",
    "df3[df3.Age==21]"
   ]
  },
  {
   "cell_type": "code",
   "execution_count": null,
   "metadata": {},
   "outputs": [],
   "source": [
    "def find_closest_target_value(numbers, target):\n",
    "    closest = None\n",
    "    min_diff = float('inf')\n",
    "\n",
    "    for num in numbers:\n",
    "        if num != target:\n",
    "            diff = abs(num - target)\n",
    "            if diff < min_diff:\n",
    "                min_diff = diff\n",
    "                closest = num\n",
    "\n",
    "    return closest"
   ]
  },
  {
   "cell_type": "code",
   "execution_count": null,
   "metadata": {},
   "outputs": [],
   "source": [
    "user_song = \"Shake It Off\"\n",
    "user_genre = \"Pop\"\n",
    "user_boringness = 297.906\n",
    "\n",
    "\"\"\"\n",
    "{\n",
    "    'danceability': 0.648,\n",
    "    'energy': 0.785,\n",
    "    'loudness': -5.414,\n",
    "    'speechiness': 0.165,\n",
    "    'acousticness': 0.0561,\n",
    "    'instrumentalness': 0.0,\n",
    "    'liveness': 0.148,\n",
    "    'valence': 0.943,\n",
    "    'tempo': 160.02,\n",
    "    'duration_ms': 219200.0,\n",
    "    'total_beats': 35076.0,\n",
    "    'boringness': 297.906\n",
    " }\n",
    "\n",
    "\"\"\"\n",
    "\n",
    "closest_boringess_value = find_closest_target_value(boringness, user_boringness)\n",
    "sub_genre_df = group_25_song_database.loc[group_25_song_database[\"genre\"] == \"Pop\"]\n",
    "user_df = group_25_song_database.loc[\"Shake It Off\"]\n",
    "user_df = user_df[user_df.genre == user_genre]\n",
    "song_attributes = [a for a in user_df.index.to_list()[0]]\n",
    "song_key, song_mode, time_sig = song_attributes\n",
    "\n",
    "idx = pd.IndexSlice\n",
    "print(type(closest_boringess_value))\n",
    "suggested_df = sub_genre_df[sub_genre_df.boringness == closest_boringess_value]\n",
    "suggested_df\n",
    "# user_df.boringness.values\n",
    "# sugg_df = df[df.boringness.value == result1[0] & df.total_beats.value == result2[0]]\n",
    "\n",
    "# df[df.boringness.values == closest_boringess_value]\n",
    "# df[df.total_beats.values == closest_beat_value]"
   ]
  },
  {
   "cell_type": "code",
   "execution_count": null,
   "metadata": {},
   "outputs": [],
   "source": [
    "group_25_song_database.describe()"
   ]
  },
  {
   "cell_type": "code",
   "execution_count": null,
   "metadata": {},
   "outputs": [],
   "source": [
    "column_names = list(group_25_song_database.columns)\n",
    "column_names.remove(\"genre\")\n",
    "database_describe = group_25_song_database.describe()\n",
    "characteristics_mean = {}\n",
    "\n",
    "for column_name in column_names:\n",
    "    characteristic = group_25_song_database.describe()[column_name]\n",
    "    characteristics_mean[column_name] = characteristic[characteristic.index == \"mean\"][0]\n",
    "\n",
    "characteristics_mean"
   ]
  },
  {
   "cell_type": "code",
   "execution_count": null,
   "metadata": {},
   "outputs": [],
   "source": [
    "user_song_name = \"Shake It Off\"\n",
    "song_genre = \"Pop\"\n",
    "\n",
    "user_df = group_25_song_database.loc[user_song_name]\n",
    "user_df = user_df[user_df.genre == song_genre]\n",
    "user_val = {}\n",
    "\n",
    "for column_name in column_names:\n",
    "    user_val[column_name] = float(user_df.loc[:, column_name].values)\n",
    "\n",
    "user_val"
   ]
  },
  {
   "cell_type": "code",
   "execution_count": null,
   "metadata": {},
   "outputs": [],
   "source": [
    "bar_user = {}\n",
    "bar_data = {}\n",
    "\n",
    "for key, value in user_val.items():\n",
    "    bar_user[key] = value\n",
    "\n",
    "for key, value in characteristics_mean.items():\n",
    "    bar_data[key] = value\n"
   ]
  },
  {
   "cell_type": "code",
   "execution_count": null,
   "metadata": {},
   "outputs": [],
   "source": [
    "unwanted_data = [\"tempo\"]\n",
    "big_values = []\n",
    "all_characteristics = list(bar_user.keys())\n",
    "\n",
    "for key, value in characteristics_mean.items():\n",
    "    if (value > 1 or value < 0) and key not in unwanted_data:\n",
    "        big_values.append(key)"
   ]
  },
  {
   "cell_type": "code",
   "execution_count": null,
   "metadata": {},
   "outputs": [],
   "source": [
    "# set width of bar\n",
    "barWidth = 0.25\n",
    "fig, ax = plt.subplots(figsize =(12, 8))\n",
    "\n",
    "for characteristic in all_characteristics:\n",
    "    if characteristic in unwanted_data or characteristic in big_values:\n",
    "        bar_user.pop(characteristic)\n",
    "        bar_data.pop(characteristic)\n",
    "\n",
    "bar_user_values = list(bar_user.values())\n",
    "x_tick_labels = list(bar_user.keys())\n",
    "bar_data_values = list(bar_data.values())\n",
    "br1 = np.arange(len(bar_user))\n",
    "br2 = [x + barWidth for x in br1]\n",
    "\n",
    "# Make the plot\n",
    "ax.bar(br1, bar_data_values, color ='#cf0a2c', width = barWidth, edgecolor ='grey', label ='data')\n",
    "ax.bar(br2, bar_user_values, color = '#1db954', width = barWidth, edgecolor ='grey', label ='user')\n",
    "\n",
    "# Adding Xticks\n",
    "ax.set_xlabel('Audio Features', fontweight ='bold', fontsize = 15)\n",
    "ax.set_ylabel('Weighted Value', fontweight ='bold', fontsize = 15)\n",
    "ax.set_xticks([r + barWidth for r in range(len(x_tick_labels))])\n",
    "ax.set_xticklabels(x_tick_labels, rotation=65)\n",
    "ax.set_title(f\"{user_song_name} Attributes Against Dataset\", fontweight ='bold', fontsize = 20)\n",
    "\n",
    "plt.legend()\n",
    "plt.show()"
   ]
  },
  {
   "cell_type": "code",
   "execution_count": null,
   "metadata": {},
   "outputs": [],
   "source": [
    "bar_user = {}\n",
    "bar_data = {}\n",
    "\n",
    "for key, value in user_val.items():\n",
    "    bar_user[key] = value\n",
    "\n",
    "for key, value in characteristics_mean.items():\n",
    "    bar_data[key] = value"
   ]
  },
  {
   "cell_type": "code",
   "execution_count": null,
   "metadata": {},
   "outputs": [],
   "source": [
    "group_25_song_database.hist(figsize=(15,15),\n",
    "                            grid=False,\n",
    "                            bins=10,\n",
    "                            color='#1db954',\n",
    "                            ec='#121212',\n",
    "                            legend=True)"
   ]
  },
  {
   "cell_type": "code",
   "execution_count": null,
   "metadata": {},
   "outputs": [],
   "source": [
    "x = group_25_song_database.loc[:, :]\n",
    "x = x.drop(columns=\"genre\")\n",
    "y = list_of_genres"
   ]
  },
  {
   "cell_type": "code",
   "execution_count": null,
   "metadata": {},
   "outputs": [],
   "source": [
    "import seaborn as sns\n",
    "\n",
    "k = 0\n",
    "plt.figure(figsize=(40, 30))\n",
    "\n",
    "for i in x.columns:\n",
    "    plt.subplot(4, 4, k+1)\n",
    "    sns.distplot(x[i], color='#1db954', hist_kws=dict(edgecolor=\"#121212\", linewidth=1))\n",
    "    plt.xlabel(i, fontsize=24)\n",
    "    k +=1"
   ]
  },
  {
   "cell_type": "code",
   "execution_count": null,
   "metadata": {},
   "outputs": [],
   "source": [
    "\"\"\"\n",
    "    Make this automated instead of hard coding\n",
    "    Find max value and choose it to \"explode\"\n",
    "\"\"\"\n",
    "\n",
    "colors = [\"#1db594\", \"#ff59c7\", \"#a0a1cb\", \"#f31511\", \"#7e93ba\", \"#5d3fd3\", \"#d1ad00\", \"#e5e1e1\"]\n",
    "\n",
    "explode = [0 for _ in range(len(list_of_genres))]\n",
    "user_song_genre_index = list_of_genres.index(song_genre)\n",
    "explode[user_song_genre_index] = 0.1\n",
    "genre_grouped = np.array(group_25_song_database.groupby([\"genre\"])[\"genre\"].count())\n",
    "\n",
    "plt.pie(genre_grouped, labels=list_of_genres, startangle=0, autopct='%1.2f%%', shadow=True, colors=colors, explode=explode)\n",
    "plt.title(\"Database Genre Pie Chart\", fontsize=20, fontweight=\"bold\", color=\"#121212\")\n",
    "\n",
    "plt.show()"
   ]
  }
 ],
 "metadata": {
  "kernelspec": {
   "display_name": "Python 3",
   "language": "python",
   "name": "python3"
  },
  "language_info": {
   "codemirror_mode": {
    "name": "ipython",
    "version": 3
   },
   "file_extension": ".py",
   "mimetype": "text/x-python",
   "name": "python",
   "nbconvert_exporter": "python",
   "pygments_lexer": "ipython3",
   "version": "3.10.9"
  },
  "orig_nbformat": 4
 },
 "nbformat": 4,
 "nbformat_minor": 2
}
